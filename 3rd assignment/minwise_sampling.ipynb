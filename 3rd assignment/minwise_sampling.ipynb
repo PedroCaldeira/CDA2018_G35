{
 "cells": [
  {
   "cell_type": "code",
   "execution_count": 1,
   "metadata": {},
   "outputs": [],
   "source": [
    "import pandas as pd\n",
    "import pickle as pkl\n",
    "import matplotlib.pyplot as plt\n",
    "import random\n",
    "import numpy as np\n",
    "import csv\n",
    "from collections import Counter"
   ]
  },
  {
   "cell_type": "code",
   "execution_count": 28,
   "metadata": {},
   "outputs": [],
   "source": [
    "#File_Paths\n",
    "CTU_NETFLOW_FILEPATH = \"./capture20110812.pcap.netflow.labeled\"\n",
    "COLUMNS = [\"Date flow start\",\"Durat\",\"Prot\",\"Src IP Addr\",\"Dst IP Addr\",\"Flags\",\"Tos\",\"Packets Bytes\",\"Flows\",\"Label\",\"Labels\"]\n",
    "HOSTS = [\"147.32.84.165\",\"147.32.84.170\",\"147.32.84.134\",\"147.32.84.164\",\"147.32.87.36\",\"147.32.80.9\",\"147.32.87.11\"]\n",
    "fieldnames= [\"Date flow start\",\"Durat\",\"Prot\",\"Src IP Addr\",\"Dst IP Addr\",\"Flags\",\"Tos\",\"Packets\",\" Bytes\",\"Flows\",\"Label\"]"
   ]
  },
  {
   "cell_type": "code",
   "execution_count": 29,
   "metadata": {},
   "outputs": [],
   "source": [
    "class MinCount:\n",
    "    \n",
    "    def __init__(self,reservoirSize,debug_mode):\n",
    "        self.debug = debug_mode\n",
    "        self.reservoir_size = reservoirSize\n",
    "        self.rns = []\n",
    "        self.elements = [] \n",
    "    \n",
    "    def try_add_candidate(self,candidate):\n",
    "        if(self.debug):\n",
    "            print(\"\\n\")\n",
    "            print(\"Adding \",candidate)\n",
    "        random_number = random.random()\n",
    "        if(self.debug):\n",
    "            print(\"Random Number: \",random_number)\n",
    "        \n",
    "        #if reservoir size < than reservoir max size always add\n",
    "        if (len(self.elements) < self.reservoir_size):\n",
    "            if(self.debug):\n",
    "                print(\"Still have Space\")\n",
    "                print(\"CANDIDATE ADDED\")\n",
    "            self.rns.append(random_number)\n",
    "            self.elements.append(candidate)\n",
    "            return\n",
    "        \n",
    "        #else replace element with biggest rn\n",
    "        else:\n",
    "            if(self.debug):\n",
    "                print(\"Try Substitute\")\n",
    "                print(\"Max randomnumber: \",max(self.rns),\" in index \",self.rns.index(max(self.rns)))\n",
    "            #if random number bigger than bigger random number dont add\n",
    "            if random_number > max(self.rns):\n",
    "                if(self.debug):\n",
    "                    print(\"Random Number Higher than Max value in random numbers list\")\n",
    "                    print(\"CANDIDATE NOT ADDED\")\n",
    "                return\n",
    "            if(self.debug):\n",
    "                print(\"Random Number Lower than Max value in random numbers list\")\n",
    "                print(\"Added \",candidate,\" with rn: \",random_number)\n",
    "                print(\"CANDIDATE ADDED WITH REPLACE\")\n",
    "            highest_rn_index = self.rns.index(max(self.rns))\n",
    "            self.rns[highest_rn_index] = random_number\n",
    "            self.elements[highest_rn_index] = candidate\n",
    "            return\n",
    "            \n",
    "    def get_elements(self):\n",
    "        return self.elements\n",
    "    def get_rns(self):\n",
    "        return self.rns\n",
    "    \n",
    "    def get_rns_and_elements(self):\n",
    "        return list(zip(self.rns, self.elements))"
   ]
  },
  {
   "cell_type": "markdown",
   "metadata": {},
   "source": [
    "# Parse File"
   ]
  },
  {
   "cell_type": "code",
   "execution_count": 30,
   "metadata": {},
   "outputs": [
    {
     "name": "stdout",
     "output_type": "stream",
     "text": [
      "Packet  100000\n",
      "Packet  200000\n",
      "Packet  300000\n",
      "Packet  400000\n",
      "Packet  500000\n",
      "Packet  600000\n",
      "Packet  700000\n",
      "Packet  800000\n",
      "Packet  900000\n",
      "Packet  1000000\n",
      "Packet  1100000\n",
      "Packet  1200000\n",
      "Packet  1300000\n",
      "Packet  1400000\n",
      "Packet  1500000\n",
      "Packet  1600000\n",
      "Packet  1700000\n",
      "Packet  1800000\n",
      "Packet  1900000\n",
      "Packet  2000000\n",
      "Packet  2100000\n",
      "Packet  2200000\n",
      "Packet  2300000\n",
      "Packet  2400000\n",
      "Packet  2500000\n",
      "Packet  2600000\n",
      "Packet  2700000\n",
      "Packet  2800000\n",
      "Packet  2900000\n",
      "Packet  3000000\n",
      "Packet  3100000\n",
      "Packet  3200000\n",
      "Packet  3300000\n",
      "Packet  3400000\n",
      "Packet  3500000\n",
      "Packet  3600000\n",
      "Packet  3700000\n",
      "Packet  3800000\n",
      "Packet  3900000\n",
      "Packet  4000000\n",
      "Packet  4100000\n",
      "Packet  4200000\n",
      "Packet  4300000\n",
      "Packet  4400000\n",
      "Packet  4500000\n",
      "Packet  4600000\n",
      "Packet  4700000\n",
      "Packet  4800000\n",
      "Packet  4900000\n",
      "Packet  5000000\n",
      "Packet  5100000\n",
      "Packet  5200000\n",
      "Packet  5300000\n",
      "Packet  5400000\n",
      "Packet  5500000\n",
      "Packet  5600000\n",
      "Packet  5700000\n",
      "Packet  5800000\n",
      "Packet  5900000\n",
      "Packet  6000000\n",
      "Packet  6100000\n",
      "Packet  6200000\n",
      "Packet  6300000\n",
      "Packet  6400000\n",
      "Packet  6500000\n",
      "Packet  6600000\n",
      "Packet  6700000\n",
      "Packet  6800000\n",
      "Packet  6900000\n",
      "Packet  7000000\n",
      "Packet  7100000\n",
      "Packet  7200000\n",
      "Packet  7300000\n",
      "Packet  7400000\n",
      "Packet  7500000\n",
      "Packet  7600000\n",
      "Packet  7700000\n",
      "Packet  7800000\n",
      "Packet  7900000\n",
      "Packet  8000000\n",
      "Packet  8100000\n",
      "Packet  8200000\n",
      "Packet  8300000\n",
      "Packet  8400000\n",
      "Packet  8500000\n",
      "Packet  8600000\n",
      "Packet  8700000\n",
      "Packet  8800000\n",
      "Packet  8900000\n",
      "Packet  9000000\n",
      "Packet  9100000\n",
      "Packet  9200000\n",
      "Packet  9300000\n",
      "Packet  9400000\n",
      "Packet  9500000\n",
      "Packet  9600000\n",
      "Packet  9700000\n",
      "Packet  9800000\n",
      "Packet  9900000\n",
      "Packet  10000000\n",
      "Packet  10100000\n",
      "Packet  10200000\n",
      "Packet  10300000\n",
      "Packet  10400000\n",
      "Packet  10500000\n",
      "Packet  10600000\n",
      "Packet  10700000\n",
      "Packet  10800000\n",
      "Packet  10900000\n",
      "Packet  11000000\n",
      "Packet  11100000\n",
      "Packet  11200000\n",
      "Packet  11300000\n",
      "Packet  11400000\n",
      "Packet  11500000\n",
      "Packet  11600000\n",
      "Packet  11700000\n",
      "Packet  11800000\n",
      "Packet  11900000\n",
      "Packet  12000000\n",
      "Packet  12100000\n",
      "Packet  12200000\n",
      "Packet  12300000\n",
      "Packet  12400000\n",
      "Packet  12500000\n",
      "Packet  12600000\n",
      "Packet  12700000\n",
      "Packet  12800000\n",
      "Packet  12900000\n",
      "Packet  13000000\n",
      "Packet  13100000\n",
      "Packet  13200000\n",
      "Packet  13300000\n",
      "Packet  13400000\n",
      "Packet  13500000\n",
      "Packet  13600000\n",
      "Packet  13700000\n",
      "Packet  13800000\n",
      "Packet  13900000\n",
      "Packet  14000000\n",
      "Packet  14100000\n",
      "Packet  14200000\n",
      "Packet  14300000\n",
      "Packet  14400000\n",
      "Packet  14500000\n",
      "Packet  14600000\n",
      "Packet  14700000\n",
      "Packet  14800000\n",
      "Packet  14900000\n",
      "Packet  15000000\n",
      "Packet  15100000\n",
      "Packet  15200000\n"
     ]
    }
   ],
   "source": [
    "#Open File\n",
    "amount_of_packets = 10000\n",
    "packets =[]\n",
    "trueCounter ={}\n",
    "reservoir_sizes=[10000] #500 step from 500 to 10000\n",
    "minCounters = []\n",
    "#DO NOT TURN DEBUG MODE FOR ALL THE DATA\n",
    "debug = False\n",
    "#To limit the amount of packets uncomment the break condition in the end of the cell.\n",
    "for rSize in reservoir_sizes:\n",
    "    minCounters.append(MinCount(rSize,debug))\n",
    "    \n",
    "    \n",
    "with open(CTU_NETFLOW_FILEPATH,\"r\") as netflow:\n",
    "    #File is an Argus Unidirectional file created with ra -r so not rly csv. \n",
    "    #Let's parse by hand.\n",
    "    for i,packet  in enumerate(netflow):\n",
    "        #skip header\n",
    "        if i == 0:\n",
    "            continue\n",
    "            \n",
    "        packet = packet.rstrip('\\n')\n",
    "        split_packet = packet.split(\"\\t\")\n",
    "        if i%100000==0:\n",
    "            print(\"Packet \",i)\n",
    "        \n",
    "        if \"->\" in split_packet:\n",
    "            split_packet.remove(\"->\")\n",
    "        if \"\" in split_packet:\n",
    "            split_packet.remove(\"\")\n",
    "        #print(split_packet[3])\n",
    "        if \":\" in split_packet[3]: \n",
    "            split_packet[3]= split_packet[3].split(\":\")[0]\n",
    "        #print(split_packet[4])\n",
    "        elif \":\" in split_packet[4]:\n",
    "            split_packet[4]= split_packet[4].split(\":\")[0]\n",
    "        #print(split_packet[3],\" -> \",split_packet[4])\n",
    "        \n",
    "        split_packet = [e for e in split_packet if e]\n",
    "        \n",
    "        #minCounter.try_add_candidate(split_packet[3])#Source IP\n",
    "        if split_packet[3] not in HOSTS:\n",
    "            if split_packet[3] not in trueCounter:\n",
    "                trueCounter[split_packet[3]]=0\n",
    "            trueCounter[split_packet[3]]+=1 \n",
    "            for minCounter in minCounters:\n",
    "                minCounter.try_add_candidate(split_packet[3])#Source IP\n",
    "        \n",
    "        \n",
    "        #elif split_packet[4] not in HOSTS:\n",
    "        #    minCounter.try_add_candidate(split_packet[4])\n",
    "        #else:\n",
    "            #print(split_packet[4],\" is host\")\n",
    "        #print(split_packet)\n",
    "        #packets.append(split_packet)\n",
    "        \n",
    "        \"\"\"if i == amount_of_packets:\n",
    "            break\"\"\"\n",
    "        "
   ]
  },
  {
   "cell_type": "code",
   "execution_count": 31,
   "metadata": {},
   "outputs": [
    {
     "data": {
      "text/plain": [
       "[('147.32.84.229', 1523),\n",
       " ('147.32.84.138', 556),\n",
       " ('147.32.86.20', 487),\n",
       " ('147.32.85.25', 370),\n",
       " ('147.32.84.59', 332),\n",
       " ('147.32.85.34', 225),\n",
       " ('147.32.85.100', 170),\n",
       " ('147.32.84.171', 162),\n",
       " ('147.32.80.13', 126),\n",
       " ('147.32.87.1', 84)]"
      ]
     },
     "execution_count": 31,
     "metadata": {},
     "output_type": "execute_result"
    }
   ],
   "source": [
    "minCounterValues = Counter(minCounters[0].get_elements()).most_common()[:10]\n",
    "minCounterValues"
   ]
  },
  {
   "cell_type": "code",
   "execution_count": 32,
   "metadata": {},
   "outputs": [
    {
     "data": {
      "text/plain": [
       "[('147.32.84.229', 1942678),\n",
       " ('147.32.84.138', 718052),\n",
       " ('147.32.86.20', 598315),\n",
       " ('147.32.85.25', 481231),\n",
       " ('147.32.84.59', 428722),\n",
       " ('147.32.85.34', 291021),\n",
       " ('147.32.85.100', 212291),\n",
       " ('147.32.84.171', 200624),\n",
       " ('147.32.80.13', 141102),\n",
       " ('147.32.87.1', 107855)]"
      ]
     },
     "execution_count": 32,
     "metadata": {},
     "output_type": "execute_result"
    }
   ],
   "source": [
    "trueValues = Counter(trueCounter).most_common()[:10]\n",
    "trueValues"
   ]
  },
  {
   "cell_type": "code",
   "execution_count": 33,
   "metadata": {},
   "outputs": [],
   "source": [
    "def get_dist_values(counter):\n",
    "    result = []\n",
    "    count =sum([x[1] for x in counter])\n",
    "    for entry in counter:\n",
    "        distEntry = (entry[0],float(entry[1])/float(count))\n",
    "        result.append(distEntry)\n",
    "    return result"
   ]
  },
  {
   "cell_type": "code",
   "execution_count": 34,
   "metadata": {},
   "outputs": [],
   "source": [
    "minCountDist = get_dist_values(minCounterValues)"
   ]
  },
  {
   "cell_type": "code",
   "execution_count": 35,
   "metadata": {},
   "outputs": [],
   "source": [
    "trueCountDist = get_dist_values(trueValues)"
   ]
  },
  {
   "cell_type": "code",
   "execution_count": 36,
   "metadata": {},
   "outputs": [
    {
     "data": {
      "image/png": "[encoded data removed]",
      "text/plain": [
       "<Figure size 432x288 with 1 Axes>"
      ]
     },
     "metadata": {},
     "output_type": "display_data"
    }
   ],
   "source": [
    "plt.bar(range(len(minCountDist)), [val[1] for val in minCountDist], align='center')\n",
    "plt.xticks(range(len(minCountDist)), [val[0] for val in minCountDist])\n",
    "plt.xticks(rotation=70)\n",
    "plt.xlabel(\"IP's\")\n",
    "plt.ylabel(\"% seen in the Dataset\")\n",
    "plt.title(\"Minwise Distribution\")\n",
    "plt.show()"
   ]
  },
  {
   "cell_type": "code",
   "execution_count": 37,
   "metadata": {},
   "outputs": [
    {
     "data": {
      "image/png": "[encoded data removed]",
      "text/plain": [
       "<Figure size 432x288 with 1 Axes>"
      ]
     },
     "metadata": {},
     "output_type": "display_data"
    }
   ],
   "source": [
    "plt.bar(range(len(trueCountDist)), [val[1] for val in trueCountDist], align='center')\n",
    "plt.xticks(range(len(trueCountDist)), [val[0] for val in trueCountDist])\n",
    "plt.xticks(rotation=70)\n",
    "plt.xlabel(\"IP's\")\n",
    "plt.ylabel(\"% seen in the Dataset\")\n",
    "plt.title(\"True Distribution\")\n",
    "plt.show()"
   ]
  },
  {
   "cell_type": "code",
   "execution_count": 38,
   "metadata": {},
   "outputs": [
    {
     "data": {
      "image/png": "[encoded data removed]",
      "text/plain": [
       "<Figure size 432x288 with 1 Axes>"
      ]
     },
     "metadata": {},
     "output_type": "display_data"
    }
   ],
   "source": [
    "plt.bar(range(len(minCounterValues)), [val[1] for val in minCounterValues], align='center')\n",
    "plt.xticks(range(len(minCounterValues)), [val[0] for val in minCounterValues])\n",
    "plt.xticks(rotation=70)\n",
    "plt.xlabel(\"IP's\")\n",
    "plt.ylabel(\"nr of Flows\")\n",
    "plt.title(\"MinWise Count\")\n",
    "plt.show()"
   ]
  },
  {
   "cell_type": "markdown",
   "metadata": {},
   "source": [
    "## In case you want to try out the different minCounters  (Otherwise Skip to next title)"
   ]
  },
  {
   "cell_type": "code",
   "execution_count": 10,
   "metadata": {},
   "outputs": [],
   "source": [
    "# Precomputed values for k = 100,1000,10000\n",
    "with open(\"counters_min_wise_sampling.pkl\",\"rb\") as counter_file_min_wise:\n",
    "    unpickler = pkl.Unpickler(counter_file_min_wise)\n",
    "    minCounters = unpickler.load()"
   ]
  },
  {
   "cell_type": "code",
   "execution_count": 11,
   "metadata": {},
   "outputs": [
    {
     "name": "stdout",
     "output_type": "stream",
     "text": [
      "[('147.32.84.229', 11), ('147.32.86.20', 6), ('147.32.85.25', 6), ('147.32.84.138', 4), ('67.195.115.95', 3), ('147.32.86.190', 3), ('147.32.85.34', 3), ('147.32.87.20', 2), ('147.32.87.1', 2), ('147.32.85.74', 2)]\n",
      "\n",
      "\n",
      "[('147.32.84.229', 164), ('147.32.84.138', 62), ('147.32.86.20', 46), ('147.32.85.25', 37), ('147.32.84.59', 35), ('147.32.85.34', 24), ('147.32.85.100', 17), ('147.32.84.171', 12), ('147.32.86.96', 12), ('147.32.85.56', 10)]\n",
      "\n",
      "\n",
      "[('147.32.84.229', 1531), ('147.32.84.138', 585), ('147.32.86.20', 484), ('147.32.85.25', 358), ('147.32.84.59', 337), ('147.32.85.34', 228), ('147.32.85.100', 183), ('147.32.84.171', 142), ('147.32.80.13', 116), ('147.32.86.190', 85)]\n",
      "\n",
      "\n"
     ]
    }
   ],
   "source": [
    "for minCounter in minCounters:\n",
    "    print(Counter(minCounter.get_elements()).most_common()[:10])\n",
    "    print(\"\\n\")"
   ]
  },
  {
   "cell_type": "code",
   "execution_count": 13,
   "metadata": {},
   "outputs": [],
   "source": [
    "#Show wi minCounter with k =10000\n",
    "minCounter = minCounters[2]"
   ]
  },
  {
   "cell_type": "code",
   "execution_count": null,
   "metadata": {},
   "outputs": [],
   "source": [
    "Counter(minCounter.get_rns_and_elements()"
   ]
  },
  {
   "cell_type": "code",
   "execution_count": null,
   "metadata": {},
   "outputs": [],
   "source": [
    "counter = Counter(minCounter.get_elements())\n",
    "\n",
    "print(len(counter))\n",
    "print(counter.most_common()[:10])"
   ]
  },
  {
   "cell_type": "code",
   "execution_count": null,
   "metadata": {},
   "outputs": [],
   "source": [
    "with open(\"counter_min_wise_sampling.pkl\",\"wb\") as counter_file_min_wise:\n",
    "    pkl.dump(counter,counter_file_min_wise)"
   ]
  },
  {
   "cell_type": "code",
   "execution_count": null,
   "metadata": {},
   "outputs": [],
   "source": [
    "with open(\"counter_min_wise_sampling.pkl\",\"rb\") as counter_file_min_wise:\n",
    "    counter = pkl.load(counter_file_min_wise)"
   ]
  },
  {
   "cell_type": "code",
   "execution_count": null,
   "metadata": {},
   "outputs": [],
   "source": [
    "counter.most_common()[:10]"
   ]
  },
  {
   "cell_type": "code",
   "execution_count": null,
   "metadata": {
    "scrolled": true
   },
   "outputs": [],
   "source": [
    "counter.most_common()"
   ]
  }
 ],
 "metadata": {
  "kernelspec": {
   "display_name": "Python 3",
   "language": "python",
   "name": "python3"
  },
  "language_info": {
   "codemirror_mode": {
    "name": "ipython",
    "version": 3
   },
   "file_extension": ".py",
   "mimetype": "text/x-python",
   "name": "python",
   "nbconvert_exporter": "python",
   "pygments_lexer": "ipython3",
   "version": "3.5.2"
  }
 },
 "nbformat": 4,
 "nbformat_minor": 2
}
